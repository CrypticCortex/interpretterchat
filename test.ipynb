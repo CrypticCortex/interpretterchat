{
 "cells": [
  {
   "cell_type": "code",
   "execution_count": 1,
   "metadata": {},
   "outputs": [],
   "source": [
    "from interpreter import *\n",
    "\n",
    "interpreter.auto_run = True\n",
    "interpreter.llm.model = \"gpt-4-turbo\"\n",
    "interpreter.force_task_completion = True"
   ]
  },
  {
   "cell_type": "code",
   "execution_count": 2,
   "metadata": {},
   "outputs": [],
   "source": [
    "def json_to_markdown(json_data):\n",
    "    markdown_string = \"\"\n",
    "\n",
    "    for item in json_data:\n",
    "        if item['role'] == 'user':\n",
    "            continue\n",
    "        if item['type'] == 'message':\n",
    "            markdown_string += f\"**{item['role'].capitalize()}:** \\n{item['content']}\\n\\n\"\n",
    "        elif item['type'] == 'code':\n",
    "            markdown_string += f\"```{item['format']}\\n{item['content']}\\n```\\n\\n\"\n",
    "        elif item['type'] == 'console':\n",
    "            markdown_string += f\"```\\n{item['content']}\\n```\\n\\n\"\n",
    "\n",
    "    return markdown_string\n",
    "\n",
    "def chat(message, history, system_prompt):\n",
    "    response = interpreter.chat(message)\n",
    "    return json_to_markdown(response)"
   ]
  },
  {
   "cell_type": "code",
   "execution_count": 6,
   "metadata": {},
   "outputs": [
    {
     "data": {
      "application/vnd.jupyter.widget-view+json": {
       "model_id": "42f2b18769ca4ee1b08708d7df377828",
       "version_major": 2,
       "version_minor": 0
      },
      "text/plain": [
       "Output()"
      ]
     },
     "metadata": {},
     "output_type": "display_data"
    },
    {
     "data": {
      "text/html": [
       "<pre style=\"white-space:pre;overflow-x:auto;line-height:normal;font-family:Menlo,'DejaVu Sans Mono',consolas,'Courier New',monospace\"></pre>\n"
      ],
      "text/plain": []
     },
     "metadata": {},
     "output_type": "display_data"
    },
    {
     "data": {
      "text/plain": [
       "[{'role': 'assistant',\n",
       "  'type': 'message',\n",
       "  'content': \"Hello again! How can I assist you today? If you have any questions, need help with programming, or anything else, just let me know!\\n\\nWhat would you like to discuss?\\n\\nLet me know what you'd like to do next.\"}]"
      ]
     },
     "execution_count": 6,
     "metadata": {},
     "output_type": "execute_result"
    }
   ],
   "source": [
    "interpreter.chat('hi')"
   ]
  },
  {
   "cell_type": "code",
   "execution_count": null,
   "metadata": {},
   "outputs": [],
   "source": [
    "#json_to_markdown , now just get the Assistant and user messages\n",
    "def json_to_markdown(json_data):\n",
    "    markdown_string = \"\"\n",
    "\n",
    "    \n",
    "\n"
   ]
  }
 ],
 "metadata": {
  "kernelspec": {
   "display_name": "ai",
   "language": "python",
   "name": "python3"
  },
  "language_info": {
   "codemirror_mode": {
    "name": "ipython",
    "version": 3
   },
   "file_extension": ".py",
   "mimetype": "text/x-python",
   "name": "python",
   "nbconvert_exporter": "python",
   "pygments_lexer": "ipython3",
   "version": "3.11.8"
  }
 },
 "nbformat": 4,
 "nbformat_minor": 2
}
